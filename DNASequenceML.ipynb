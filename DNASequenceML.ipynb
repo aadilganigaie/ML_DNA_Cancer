{
  "nbformat": 4,
  "nbformat_minor": 0,
  "metadata": {
    "colab": {
      "provenance": []
    },
    "kernelspec": {
      "name": "python3",
      "display_name": "Python 3"
    },
    "language_info": {
      "name": "python"
    }
  },
  "cells": [
    {
      "cell_type": "code",
      "execution_count": null,
      "metadata": {
        "id": "22OZ_HiLv8HS"
      },
      "outputs": [],
      "source": [
        "\n",
        "import pandas as pd\n",
        "import matplotlib.pyplot as plt\n",
        "import seaborn as sns\n",
        "import numpy as np \n",
        "import pandas as pd \n",
        "import tensorflow as tf\n",
        "from sklearn.feature_selection import SelectKBest,f_classif\n",
        "from sklearn.model_selection import train_test_split\n",
        "from tensorflow.keras.models import Sequential\n",
        "from tensorflow.keras.layers import LSTM,Dense,Dropout, LSTM, GRU, Bidirectional, Embedding\n",
        "\n",
        "import matplotlib.pyplot as plt\n",
        "\n",
        "import plotly.graph_objects as go\n",
        "from plotly.offline import plot, iplot\n",
        "from plotly.subplots import make_subplots\n",
        "import plotly.io as pio\n",
        "tokenizer=tf.keras.preprocessing.text.Tokenizer()\n",
        "from keras_preprocessing.sequence import pad_sequences\n",
        "\n",
        "from tensorflow.keras.models import Sequential, Model\n",
        "from tensorflow.keras import layers\n",
        "from tensorflow.keras.layers import Embedding, Layer, Dense, Dropout, MultiHeadAttention, LayerNormalization, Input, GlobalAveragePooling1D\n",
        "from tensorflow.keras.layers import LSTM, Bidirectional\n",
        "from tensorflow.keras.callbacks import ModelCheckpoint, EarlyStopping, ReduceLROnPlateau"
      ]
    },
    {
      "cell_type": "code",
      "source": [
        "from IPython.display import set_matplotlib_formats \n",
        "plt.style.use('ggplot')\n",
        "sns.set_style('whitegrid')\n",
        "sns.set(font_scale=1.5)\n",
        "%config InlineBackend.figure_format = 'retina'\n",
        "\n",
        "import warnings\n",
        "warnings.filterwarnings(\"ignore\")\n",
        "import gc\n",
        "\n",
        "# Pallets used for visualizations\n",
        "color= \"Spectral\"\n",
        "color_plt = ListedColormap(sns.color_palette(color).as_hex())\n",
        "color_hist = 'teal'\n",
        "two_colors = [ sns.color_palette(color)[0], sns.color_palette(color)[5]]\n",
        "three_colors = [ sns.color_palette(color)[5],sns.color_palette(color)[2], sns.color_palette(color)[0]]"
      ],
      "metadata": {
        "id": "R6cGzG--wJkg"
      },
      "execution_count": null,
      "outputs": []
    },
    {
      "cell_type": "code",
      "source": [
        "#Read fastq file #57 colon #46 gastric #49 normal colon\n",
        "def readFastq(filename):\n",
        "    \"\"\"Reads FASTQ file and remove the special characters!\"\"\"\n",
        "    sequences = []\n",
        "    qualities = []\n",
        "    with open(filename) as fh:\n",
        "        while True:\n",
        "            fh.readline() # skip name line\n",
        "            seq = fh.readline().rstrip() # read base sequence\n",
        "            fh.readline() # skip placeholder line\n",
        "            qual = fh.readline().rstrip() #base quality line\n",
        "            if len(seq) == 0:\n",
        "                break\n",
        "            sequences.append(seq)\n",
        "            qualities.append(qual)\n",
        "    return sequences, qualities"
      ],
      "metadata": {
        "id": "qhsUU0j8wJgo"
      },
      "execution_count": null,
      "outputs": []
    },
    {
      "cell_type": "code",
      "source": [
        "#with tf.device('CPU:0'):\n",
        "seq1, quals = readFastq('/kaggle/input/coloncancer/SRR22422957_1.fastq')"
      ],
      "metadata": {
        "id": "10sozWbEwsiB"
      },
      "execution_count": null,
      "outputs": []
    },
    {
      "cell_type": "code",
      "source": [
        "df = pd.DataFrame(seq1)\n",
        "#df = df.loc[:10000000]\n",
        "df = df.rename(columns = {0: 'sequences'})\n",
        "df['label'] = 'ColonCancer'"
      ],
      "metadata": {
        "id": "g5F2H5BnwJcs"
      },
      "execution_count": null,
      "outputs": []
    },
    {
      "cell_type": "code",
      "source": [
        "#Downsampling\n",
        "downsampling_rate = 0.38\n",
        "num_rows = int(downsampling_rate * df.shape[0])\n",
        "downsampled_df = df.sample(n=num_rows)"
      ],
      "metadata": {
        "id": "OXWe6PCtwJYT"
      },
      "execution_count": null,
      "outputs": []
    },
    {
      "cell_type": "code",
      "source": [
        "#with tf.device('CPU:0'):\n",
        "seq2, quals = readFastq('/kaggle/input/throidcancer/SRR22570931_1.fastq')\n",
        "#with tf.device('CPU:0'):\n",
        "df1 = pd.DataFrame(seq2)\n",
        "#df1 = df1.loc[:200000]\n",
        "df1 = df1.rename(columns = {0: 'sequences'})\n",
        "df1['label'] = 'ThyroidCancer'"
      ],
      "metadata": {
        "id": "dKK7PP1PwJVH"
      },
      "execution_count": null,
      "outputs": []
    },
    {
      "cell_type": "code",
      "source": [
        "#with tf.device('CPU:0'):\n",
        "seq3, quals = readFastq('/kaggle/input/urothelial-carcinoma/SRR20665001_1.fastq')\n",
        "#with tf.device('GPU:0'):\n",
        "df2 = pd.DataFrame(seq3)\n",
        "#df2 = df2.loc[:200000]\n",
        "df2 = df2.rename(columns = {0: 'sequences'})\n",
        "df2['label'] = 'UrithelialCarcinoma'"
      ],
      "metadata": {
        "id": "N_knSic7wnXB"
      },
      "execution_count": null,
      "outputs": []
    },
    {
      "cell_type": "code",
      "source": [
        "df_new = pd.concat([downsampled_df, df1, df2], ignore_index = True)"
      ],
      "metadata": {
        "id": "L7cVZ5x1wnTg"
      },
      "execution_count": null,
      "outputs": []
    },
    {
      "cell_type": "code",
      "source": [
        "sns.countplot(x = 'label', data = df_new)"
      ],
      "metadata": {
        "id": "kJxV0pcKwnQH"
      },
      "execution_count": null,
      "outputs": []
    },
    {
      "cell_type": "code",
      "source": [
        "df_uni = df_new.drop_duplicates(subset = ['sequences'], keep = 'first')"
      ],
      "metadata": {
        "id": "mV7XztHCwnNG"
      },
      "execution_count": null,
      "outputs": []
    },
    {
      "cell_type": "code",
      "source": [
        "# Select the rows corresponding to the third class\n",
        "class3_rows = df_new[df_new['label'] == 'ThyroidCancer']\n",
        "\n",
        "# Randomly select a specified number of rows from the third class\n",
        "downsampled_class3 = class3_rows.sample(n=500000)\n",
        "\n",
        "# Combine the downsampled third class with the rest of the DataFrame\n",
        "df_new = pd.concat([df_new[df_new['label'] != 'ThroidCancer'], downsampled_class3])\n",
        "df_new"
      ],
      "metadata": {
        "id": "K3TNmcULwm66"
      },
      "execution_count": null,
      "outputs": []
    },
    {
      "cell_type": "code",
      "source": [
        "# function to convert sequence strings into k-mer words, default size = 6 (hexamer words)\n",
        "def getKmers(sequence, size=4):\n",
        "    return [sequence[x:x+size].lower() for x in range(len(sequence) - size + 1)]"
      ],
      "metadata": {
        "id": "pUKTuU3lwm2p"
      },
      "execution_count": null,
      "outputs": []
    },
    {
      "cell_type": "code",
      "source": [
        "df_uni[\"sequences\"]=df_uni.apply(lambda x: getKmers(x[\"sequences\"]),axis=1)\n",
        "df_uni.head()"
      ],
      "metadata": {
        "id": "Sn2LwWtpwmy0"
      },
      "execution_count": null,
      "outputs": []
    },
    {
      "cell_type": "code",
      "source": [
        "df_texts=list(df_uni[\"sequences\"])\n",
        "for item in range(len(df_texts)):\n",
        "    df_texts[item] = ' '.join(df_texts[item])"
      ],
      "metadata": {
        "id": "f20Hr_8dwmwU"
      },
      "execution_count": null,
      "outputs": []
    },
    {
      "cell_type": "code",
      "source": [
        "from sklearn.model_selection import train_test_split\n",
        "x_train, x_test, y_train, y_test = train_test_split(df_uni['sequences'], df_uni['label'], test_size = .2)"
      ],
      "metadata": {
        "id": "RTAt5oiExSqt"
      },
      "execution_count": null,
      "outputs": []
    },
    {
      "cell_type": "code",
      "source": [
        "#pipeline\n",
        "from sklearn.linear_model import LogisticRegression\n",
        "#from sklearn.ensemble import RandomForestClassifier\n",
        "from sklearn.naive_bayes import MultinomialNB\n",
        "from sklearn.feature_extraction.text import CountVectorizer\n",
        "from sklearn.pipeline import Pipeline\n",
        "pipe_lr = Pipeline(steps = [('cv', CountVectorizer()),('lr', LogisticRegression())])"
      ],
      "metadata": {
        "id": "MhWlEew7xSn3"
      },
      "execution_count": null,
      "outputs": []
    },
    {
      "cell_type": "code",
      "source": [
        "#training\n",
        "pipe_lr.fit(x_train, y_train)"
      ],
      "metadata": {
        "id": "o9Hsn7fUxSkL"
      },
      "execution_count": null,
      "outputs": []
    },
    {
      "cell_type": "code",
      "source": [
        "pipe_lr.score(x_test, y_test)"
      ],
      "metadata": {
        "id": "dKaSPFfwxSgJ"
      },
      "execution_count": null,
      "outputs": []
    },
    {
      "cell_type": "code",
      "source": [
        "y_pred = pipe_lr.predict(x_test)"
      ],
      "metadata": {
        "id": "1_f6jRVQxSdU"
      },
      "execution_count": null,
      "outputs": []
    },
    {
      "cell_type": "code",
      "source": [
        "import scikitplot as skplt\n",
        "import matplotlib.pyplot as plt\n",
        "\n",
        "\n",
        "y_probas = pipe_lr.predict_proba(x_test)\n",
        "skplt.metrics.plot_roc_curve(y_test, y_probas)\n",
        "plt.show()"
      ],
      "metadata": {
        "id": "8oy1Uv6QxSao"
      },
      "execution_count": null,
      "outputs": []
    },
    {
      "cell_type": "code",
      "source": [
        "skplt.metrics.plot_confusion_matrix(y_test, y_pred, normalize=True)\n",
        "plt.show()"
      ],
      "metadata": {
        "id": "OUVvCF8gxSXp"
      },
      "execution_count": null,
      "outputs": []
    },
    {
      "cell_type": "code",
      "source": [
        "#callibration\n",
        "from sklearn.calibration import CalibratedClassifierCV\n",
        "# Use CalibratedClassifierCV to train a calibrated version of the model\n",
        "calibrated_model = CalibratedClassifierCV(pipe_lr, cv=5, method=\"sigmoid\")\n",
        "calibrated_model.fit(x_train, y_train)\n",
        "calibrated_model.score(x_test, y_test)"
      ],
      "metadata": {
        "id": "E98Mh_PXxSVI"
      },
      "execution_count": null,
      "outputs": []
    },
    {
      "cell_type": "code",
      "source": [
        "y_probas = calibrated_model.predict_proba(x_test)\n",
        "skplt.metrics.plot_roc_curve(y_test, y_probas)\n",
        "plt.show()"
      ],
      "metadata": {
        "id": "Al8GJxV_yMDv"
      },
      "execution_count": null,
      "outputs": []
    }
  ]
}